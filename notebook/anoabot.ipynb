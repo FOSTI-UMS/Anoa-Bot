{
  "nbformat": 4,
  "nbformat_minor": 0,
  "metadata": {
    "colab": {
      "name": "anoabot.ipynb",
      "provenance": []
    },
    "kernelspec": {
      "name": "python3",
      "display_name": "Python 3"
    },
    "language_info": {
      "name": "python"
    }
  },
  "cells": [
    {
      "cell_type": "code",
      "metadata": {
        "id": "PuTK0MteTGWe"
      },
      "source": [
        "from sklearn.model_selection import train_test_split\n",
        "from sklearn.pipeline import Pipeline\n",
        "from sklearn.feature_extraction.text import CountVectorizer\n",
        "from sklearn.feature_extraction.text import TfidfTransformer\n",
        "from sklearn.naive_bayes import MultinomialNB\n",
        "import numpy as np\n",
        "import pandas as pd"
      ],
      "execution_count": null,
      "outputs": []
    },
    {
      "cell_type": "code",
      "metadata": {
        "id": "WYLmbIkjUJmm"
      },
      "source": [
        "label = { 0: 'Aman', 1: 'Penipuan', 2: 'Promo' }\n"
      ],
      "execution_count": null,
      "outputs": []
    },
    {
      "cell_type": "markdown",
      "metadata": {
        "id": "zUtBvrkBb0aD"
      },
      "source": [
        "# LOAD DATASET"
      ]
    },
    {
      "cell_type": "code",
      "metadata": {
        "id": "5syTTwFkUNFI"
      },
      "source": [
        "dataset = pd.read_csv('datasetberita.csv')\n",
        "data = pd.DataFrame(dataset)"
      ],
      "execution_count": null,
      "outputs": []
    },
    {
      "cell_type": "code",
      "metadata": {
        "colab": {
          "base_uri": "https://localhost:8080/",
          "height": 1000
        },
        "id": "BkTdM4Y3V1zq",
        "outputId": "7a2bbe34-9311-4460-d168-d8c111bac837"
      },
      "source": [
        "data[100:140]"
      ],
      "execution_count": null,
      "outputs": [
        {
          "output_type": "execute_result",
          "data": {
            "text/html": [
              "<div>\n",
              "<style scoped>\n",
              "    .dataframe tbody tr th:only-of-type {\n",
              "        vertical-align: middle;\n",
              "    }\n",
              "\n",
              "    .dataframe tbody tr th {\n",
              "        vertical-align: top;\n",
              "    }\n",
              "\n",
              "    .dataframe thead th {\n",
              "        text-align: right;\n",
              "    }\n",
              "</style>\n",
              "<table border=\"1\" class=\"dataframe\">\n",
              "  <thead>\n",
              "    <tr style=\"text-align: right;\">\n",
              "      <th></th>\n",
              "      <th>2</th>\n",
              "      <th>Paket 500MB &amp; 75 Min Tsel &amp; 30 SMS Tsel utk (3 hari) Anda telah berakhir. Selanjutnya akan dikenakan tarif non paket. Beli paket lainnya skrg, lbh murah via MyTelkomsel di tsel.me/mytsel</th>\n",
              "      <th>Unnamed: 2</th>\n",
              "      <th>Unnamed: 3</th>\n",
              "      <th>Unnamed: 4</th>\n",
              "      <th>Unnamed: 5</th>\n",
              "      <th>Unnamed: 6</th>\n",
              "    </tr>\n",
              "  </thead>\n",
              "  <tbody>\n",
              "    <tr>\n",
              "      <th>100</th>\n",
              "      <td>0</td>\n",
              "      <td>Demi kenyamanan komunikasi Anda,per tgl 20/2/2...</td>\n",
              "      <td>NaN</td>\n",
              "      <td>NaN</td>\n",
              "      <td>NaN</td>\n",
              "      <td>NaN</td>\n",
              "      <td>NaN</td>\n",
              "    </tr>\n",
              "    <tr>\n",
              "      <th>101</th>\n",
              "      <td>0</td>\n",
              "      <td>Demi kenyamanan komunikasi Anda,per tgl 20/2/2...</td>\n",
              "      <td>NaN</td>\n",
              "      <td>NaN</td>\n",
              "      <td>NaN</td>\n",
              "      <td>NaN</td>\n",
              "      <td>NaN</td>\n",
              "    </tr>\n",
              "    <tr>\n",
              "      <th>102</th>\n",
              "      <td>2</td>\n",
              "      <td>Gear up for the March Easy' 19 now! This event...</td>\n",
              "      <td>NaN</td>\n",
              "      <td>NaN</td>\n",
              "      <td>NaN</td>\n",
              "      <td>NaN</td>\n",
              "      <td>NaN</td>\n",
              "    </tr>\n",
              "    <tr>\n",
              "      <th>103</th>\n",
              "      <td>0</td>\n",
              "      <td>Sekarang Telkomsel bisa Berbagi Kuota dengan p...</td>\n",
              "      <td>NaN</td>\n",
              "      <td>NaN</td>\n",
              "      <td>NaN</td>\n",
              "      <td>NaN</td>\n",
              "      <td>NaN</td>\n",
              "    </tr>\n",
              "    <tr>\n",
              "      <th>104</th>\n",
              "      <td>0</td>\n",
              "      <td>Pulsa Anda tdk cukup. Aktifkan Paket Darurat 5...</td>\n",
              "      <td>NaN</td>\n",
              "      <td>NaN</td>\n",
              "      <td>NaN</td>\n",
              "      <td>NaN</td>\n",
              "      <td>NaN</td>\n",
              "    </tr>\n",
              "    <tr>\n",
              "      <th>105</th>\n",
              "      <td>0</td>\n",
              "      <td>&lt;#&gt;Hai JDers! [091682] adalah kode verifikasi ...</td>\n",
              "      <td>NaN</td>\n",
              "      <td>NaN</td>\n",
              "      <td>NaN</td>\n",
              "      <td>NaN</td>\n",
              "      <td>NaN</td>\n",
              "    </tr>\n",
              "    <tr>\n",
              "      <th>106</th>\n",
              "      <td>0</td>\n",
              "      <td>Your Fore Coffee verification code is 55587 an...</td>\n",
              "      <td>NaN</td>\n",
              "      <td>NaN</td>\n",
              "      <td>NaN</td>\n",
              "      <td>NaN</td>\n",
              "      <td>NaN</td>\n",
              "    </tr>\n",
              "    <tr>\n",
              "      <th>107</th>\n",
              "      <td>0</td>\n",
              "      <td>Your Fore Coffee verification code is 72900 an...</td>\n",
              "      <td>NaN</td>\n",
              "      <td>NaN</td>\n",
              "      <td>NaN</td>\n",
              "      <td>NaN</td>\n",
              "      <td>NaN</td>\n",
              "    </tr>\n",
              "    <tr>\n",
              "      <th>108</th>\n",
              "      <td>0</td>\n",
              "      <td>Paket 2 GB, 600 Menit Tsel, 400 SMS Tsel utk (...</td>\n",
              "      <td>NaN</td>\n",
              "      <td>NaN</td>\n",
              "      <td>NaN</td>\n",
              "      <td>NaN</td>\n",
              "      <td>NaN</td>\n",
              "    </tr>\n",
              "    <tr>\n",
              "      <th>109</th>\n",
              "      <td>0</td>\n",
              "      <td>Paket 2 GB, 600 Menit Tsel, 400 SMS Tsel utk (...</td>\n",
              "      <td>NaN</td>\n",
              "      <td>NaN</td>\n",
              "      <td>NaN</td>\n",
              "      <td>NaN</td>\n",
              "      <td>NaN</td>\n",
              "    </tr>\n",
              "    <tr>\n",
              "      <th>110</th>\n",
              "      <td>0</td>\n",
              "      <td>Paket 2 GB, 600 Menit Tsel, 400 SMS Tsel utk (...</td>\n",
              "      <td>NaN</td>\n",
              "      <td>NaN</td>\n",
              "      <td>NaN</td>\n",
              "      <td>NaN</td>\n",
              "      <td>NaN</td>\n",
              "    </tr>\n",
              "    <tr>\n",
              "      <th>111</th>\n",
              "      <td>2</td>\n",
              "      <td>Beli 6 Gratis 6 Donut dari DUNKIN DONUTS Stasi...</td>\n",
              "      <td>NaN</td>\n",
              "      <td>NaN</td>\n",
              "      <td>NaN</td>\n",
              "      <td>NaN</td>\n",
              "      <td>NaN</td>\n",
              "    </tr>\n",
              "    <tr>\n",
              "      <th>112</th>\n",
              "      <td>0</td>\n",
              "      <td>Pulsa Anda tdk cukup. Aktifkan Paket Darurat 5...</td>\n",
              "      <td>NaN</td>\n",
              "      <td>NaN</td>\n",
              "      <td>NaN</td>\n",
              "      <td>NaN</td>\n",
              "      <td>NaN</td>\n",
              "    </tr>\n",
              "    <tr>\n",
              "      <th>113</th>\n",
              "      <td>0</td>\n",
              "      <td>Pulsa Anda tdk cukup. Aktifkan Paket Darurat 5...</td>\n",
              "      <td>NaN</td>\n",
              "      <td>NaN</td>\n",
              "      <td>NaN</td>\n",
              "      <td>NaN</td>\n",
              "      <td>NaN</td>\n",
              "    </tr>\n",
              "    <tr>\n",
              "      <th>114</th>\n",
              "      <td>0</td>\n",
              "      <td>Pulsa Anda tdk cukup. Aktifkan Paket Darurat 5...</td>\n",
              "      <td>NaN</td>\n",
              "      <td>NaN</td>\n",
              "      <td>NaN</td>\n",
              "      <td>NaN</td>\n",
              "      <td>NaN</td>\n",
              "    </tr>\n",
              "    <tr>\n",
              "      <th>115</th>\n",
              "      <td>0</td>\n",
              "      <td>Terimakasih telah melakukan pengisian ulang dg...</td>\n",
              "      <td>NaN</td>\n",
              "      <td>NaN</td>\n",
              "      <td>NaN</td>\n",
              "      <td>NaN</td>\n",
              "      <td>NaN</td>\n",
              "    </tr>\n",
              "    <tr>\n",
              "      <th>116</th>\n",
              "      <td>0</td>\n",
              "      <td>Mau berbagi Pulsa ke Sesama Pengguna Telkomsel...</td>\n",
              "      <td>NaN</td>\n",
              "      <td>NaN</td>\n",
              "      <td>NaN</td>\n",
              "      <td>NaN</td>\n",
              "      <td>NaN</td>\n",
              "    </tr>\n",
              "    <tr>\n",
              "      <th>117</th>\n",
              "      <td>0</td>\n",
              "      <td>Saat ini Anda mengakses internet dengan tarif ...</td>\n",
              "      <td>NaN</td>\n",
              "      <td>NaN</td>\n",
              "      <td>NaN</td>\n",
              "      <td>NaN</td>\n",
              "      <td>NaN</td>\n",
              "    </tr>\n",
              "    <tr>\n",
              "      <th>118</th>\n",
              "      <td>0</td>\n",
              "      <td>Terimakasih telah melakukan pengisian ulang dg...</td>\n",
              "      <td>NaN</td>\n",
              "      <td>NaN</td>\n",
              "      <td>NaN</td>\n",
              "      <td>NaN</td>\n",
              "      <td>NaN</td>\n",
              "    </tr>\n",
              "    <tr>\n",
              "      <th>119</th>\n",
              "      <td>0</td>\n",
              "      <td>Selamat Paket Combo 2 GB, 150 Menit Tsel, 400 ...</td>\n",
              "      <td>NaN</td>\n",
              "      <td>NaN</td>\n",
              "      <td>NaN</td>\n",
              "      <td>NaN</td>\n",
              "      <td>NaN</td>\n",
              "    </tr>\n",
              "    <tr>\n",
              "      <th>120</th>\n",
              "      <td>2</td>\n",
              "      <td>Mau berbagi Pulsa ke Sesama Pengguna Telkomsel...</td>\n",
              "      <td>NaN</td>\n",
              "      <td>NaN</td>\n",
              "      <td>NaN</td>\n",
              "      <td>NaN</td>\n",
              "      <td>NaN</td>\n",
              "    </tr>\n",
              "    <tr>\n",
              "      <th>121</th>\n",
              "      <td>2</td>\n",
              "      <td>Batman, Superman dan Superheroes lainnya terse...</td>\n",
              "      <td>NaN</td>\n",
              "      <td>NaN</td>\n",
              "      <td>NaN</td>\n",
              "      <td>NaN</td>\n",
              "      <td>NaN</td>\n",
              "    </tr>\n",
              "    <tr>\n",
              "      <th>122</th>\n",
              "      <td>0</td>\n",
              "      <td>Pulsa Anda tdk cukup. Aktifkan Paket Darurat 5...</td>\n",
              "      <td>NaN</td>\n",
              "      <td>NaN</td>\n",
              "      <td>NaN</td>\n",
              "      <td>NaN</td>\n",
              "      <td>NaN</td>\n",
              "    </tr>\n",
              "    <tr>\n",
              "      <th>123</th>\n",
              "      <td>1</td>\n",
              "      <td>Plggn!! Yth,Selamat Nomor Anda terpilih sebaga...</td>\n",
              "      <td>NaN</td>\n",
              "      <td>NaN</td>\n",
              "      <td>NaN</td>\n",
              "      <td>NaN</td>\n",
              "      <td>NaN</td>\n",
              "    </tr>\n",
              "    <tr>\n",
              "      <th>124</th>\n",
              "      <td>1</td>\n",
              "      <td>Pinjaman Tanpa Deposit &amp; Biaya Admin Bunga 0.6...</td>\n",
              "      <td>NaN</td>\n",
              "      <td>NaN</td>\n",
              "      <td>NaN</td>\n",
              "      <td>NaN</td>\n",
              "      <td>NaN</td>\n",
              "    </tr>\n",
              "    <tr>\n",
              "      <th>125</th>\n",
              "      <td>0</td>\n",
              "      <td>Paket anda dari Fore Coffee akan segera kami a...</td>\n",
              "      <td>NaN</td>\n",
              "      <td>NaN</td>\n",
              "      <td>NaN</td>\n",
              "      <td>NaN</td>\n",
              "      <td>NaN</td>\n",
              "    </tr>\n",
              "    <tr>\n",
              "      <th>126</th>\n",
              "      <td>0</td>\n",
              "      <td>Sudah dipos</td>\n",
              "      <td>NaN</td>\n",
              "      <td>NaN</td>\n",
              "      <td>NaN</td>\n",
              "      <td>NaN</td>\n",
              "      <td>NaN</td>\n",
              "    </tr>\n",
              "    <tr>\n",
              "      <th>127</th>\n",
              "      <td>0</td>\n",
              "      <td>Harap masukkan 0066 di LINE dalam 30 menit.</td>\n",
              "      <td>NaN</td>\n",
              "      <td>NaN</td>\n",
              "      <td>NaN</td>\n",
              "      <td>NaN</td>\n",
              "      <td>NaN</td>\n",
              "    </tr>\n",
              "    <tr>\n",
              "      <th>128</th>\n",
              "      <td>0</td>\n",
              "      <td>&lt;#&gt; Pin TIX anda adalah 396419, hanya berlaku ...</td>\n",
              "      <td>NaN</td>\n",
              "      <td>NaN</td>\n",
              "      <td>NaN</td>\n",
              "      <td>NaN</td>\n",
              "      <td>NaN</td>\n",
              "    </tr>\n",
              "    <tr>\n",
              "      <th>129</th>\n",
              "      <td>0</td>\n",
              "      <td>Selamat! Akun DANA anda dengan No. Telp. +6281...</td>\n",
              "      <td>NaN</td>\n",
              "      <td>NaN</td>\n",
              "      <td>NaN</td>\n",
              "      <td>NaN</td>\n",
              "      <td>NaN</td>\n",
              "    </tr>\n",
              "    <tr>\n",
              "      <th>130</th>\n",
              "      <td>0</td>\n",
              "      <td>Gunakan kode 3642 untuk masuk ke akun DANA. Ko...</td>\n",
              "      <td>NaN</td>\n",
              "      <td>NaN</td>\n",
              "      <td>NaN</td>\n",
              "      <td>NaN</td>\n",
              "      <td>NaN</td>\n",
              "    </tr>\n",
              "    <tr>\n",
              "      <th>131</th>\n",
              "      <td>0</td>\n",
              "      <td>Berhasil Top Up Rp205.000 melalui BCA BANK CEN...</td>\n",
              "      <td>NaN</td>\n",
              "      <td>NaN</td>\n",
              "      <td>NaN</td>\n",
              "      <td>NaN</td>\n",
              "      <td>NaN</td>\n",
              "    </tr>\n",
              "    <tr>\n",
              "      <th>132</th>\n",
              "      <td>0</td>\n",
              "      <td>Transaksi Sukses! 4 tiket di TAMAN ANGGREK XXI...</td>\n",
              "      <td>NaN</td>\n",
              "      <td>NaN</td>\n",
              "      <td>NaN</td>\n",
              "      <td>NaN</td>\n",
              "      <td>NaN</td>\n",
              "    </tr>\n",
              "    <tr>\n",
              "      <th>133</th>\n",
              "      <td>0</td>\n",
              "      <td>Yth Pelanggan Telkomsel, kami akan meningkatka...</td>\n",
              "      <td>NaN</td>\n",
              "      <td>NaN</td>\n",
              "      <td>NaN</td>\n",
              "      <td>NaN</td>\n",
              "      <td>NaN</td>\n",
              "    </tr>\n",
              "    <tr>\n",
              "      <th>134</th>\n",
              "      <td>0</td>\n",
              "      <td>Terimakasih telah melakukan pengisian ulang dg...</td>\n",
              "      <td>NaN</td>\n",
              "      <td>NaN</td>\n",
              "      <td>NaN</td>\n",
              "      <td>NaN</td>\n",
              "      <td>NaN</td>\n",
              "    </tr>\n",
              "    <tr>\n",
              "      <th>135</th>\n",
              "      <td>0</td>\n",
              "      <td>Selamat, anda berhak mendapatkan kuota interne...</td>\n",
              "      <td>NaN</td>\n",
              "      <td>NaN</td>\n",
              "      <td>NaN</td>\n",
              "      <td>NaN</td>\n",
              "      <td>NaN</td>\n",
              "    </tr>\n",
              "    <tr>\n",
              "      <th>136</th>\n",
              "      <td>0</td>\n",
              "      <td>Maaf, pulsa Anda tidak cukup untuk melakukan p...</td>\n",
              "      <td>NaN</td>\n",
              "      <td>NaN</td>\n",
              "      <td>NaN</td>\n",
              "      <td>NaN</td>\n",
              "      <td>NaN</td>\n",
              "    </tr>\n",
              "    <tr>\n",
              "      <th>137</th>\n",
              "      <td>0</td>\n",
              "      <td>Klik link untuk login aplikasi, https://my.tel...</td>\n",
              "      <td>NaN</td>\n",
              "      <td>NaN</td>\n",
              "      <td>NaN</td>\n",
              "      <td>NaN</td>\n",
              "      <td>NaN</td>\n",
              "    </tr>\n",
              "    <tr>\n",
              "      <th>138</th>\n",
              "      <td>0</td>\n",
              "      <td>Klik link untuk login aplikasi, https://my.tel...</td>\n",
              "      <td>NaN</td>\n",
              "      <td>NaN</td>\n",
              "      <td>NaN</td>\n",
              "      <td>NaN</td>\n",
              "      <td>NaN</td>\n",
              "    </tr>\n",
              "    <tr>\n",
              "      <th>139</th>\n",
              "      <td>2</td>\n",
              "      <td>Isi bahan bakar Shell dan tukarkan poin Shell ...</td>\n",
              "      <td>NaN</td>\n",
              "      <td>NaN</td>\n",
              "      <td>NaN</td>\n",
              "      <td>NaN</td>\n",
              "      <td>NaN</td>\n",
              "    </tr>\n",
              "  </tbody>\n",
              "</table>\n",
              "</div>"
            ],
            "text/plain": [
              "     2  ... Unnamed: 6\n",
              "100  0  ...        NaN\n",
              "101  0  ...        NaN\n",
              "102  2  ...        NaN\n",
              "103  0  ...        NaN\n",
              "104  0  ...        NaN\n",
              "105  0  ...        NaN\n",
              "106  0  ...        NaN\n",
              "107  0  ...        NaN\n",
              "108  0  ...        NaN\n",
              "109  0  ...        NaN\n",
              "110  0  ...        NaN\n",
              "111  2  ...        NaN\n",
              "112  0  ...        NaN\n",
              "113  0  ...        NaN\n",
              "114  0  ...        NaN\n",
              "115  0  ...        NaN\n",
              "116  0  ...        NaN\n",
              "117  0  ...        NaN\n",
              "118  0  ...        NaN\n",
              "119  0  ...        NaN\n",
              "120  2  ...        NaN\n",
              "121  2  ...        NaN\n",
              "122  0  ...        NaN\n",
              "123  1  ...        NaN\n",
              "124  1  ...        NaN\n",
              "125  0  ...        NaN\n",
              "126  0  ...        NaN\n",
              "127  0  ...        NaN\n",
              "128  0  ...        NaN\n",
              "129  0  ...        NaN\n",
              "130  0  ...        NaN\n",
              "131  0  ...        NaN\n",
              "132  0  ...        NaN\n",
              "133  0  ...        NaN\n",
              "134  0  ...        NaN\n",
              "135  0  ...        NaN\n",
              "136  0  ...        NaN\n",
              "137  0  ...        NaN\n",
              "138  0  ...        NaN\n",
              "139  2  ...        NaN\n",
              "\n",
              "[40 rows x 7 columns]"
            ]
          },
          "metadata": {},
          "execution_count": 4
        }
      ]
    },
    {
      "cell_type": "markdown",
      "metadata": {
        "id": "SdnuToxBb43S"
      },
      "source": [
        "# HAPUS COLOM DAN RENAME COLOM"
      ]
    },
    {
      "cell_type": "code",
      "metadata": {
        "id": "Vy2aMjt7YsYe"
      },
      "source": [
        "dataset = dataset.drop(columns=['Unnamed: 2','Unnamed: 3','Unnamed: 4','Unnamed: 5','Unnamed: 6'])"
      ],
      "execution_count": null,
      "outputs": []
    },
    {
      "cell_type": "code",
      "metadata": {
        "id": "CdJ-WjbsZJw4"
      },
      "source": [
        "dataset = dataset.rename({'2': 'Label'}, axis=1)\n",
        "dataset = dataset.rename({'Paket 500MB & 75 Min Tsel & 30 SMS Tsel utk (3 hari) Anda telah berakhir. Selanjutnya akan dikenakan tarif non paket. Beli paket lainnya skrg, lbh murah via MyTelkomsel di tsel.me/mytsel': 'Text'}, axis=1)"
      ],
      "execution_count": null,
      "outputs": []
    },
    {
      "cell_type": "code",
      "metadata": {
        "colab": {
          "base_uri": "https://localhost:8080/"
        },
        "id": "2rtIIy03ahQh",
        "outputId": "9d4d90e4-b722-4681-db0b-2723b067aa9e"
      },
      "source": [
        "!pip install PySastrawi"
      ],
      "execution_count": null,
      "outputs": [
        {
          "output_type": "stream",
          "name": "stdout",
          "text": [
            "Collecting PySastrawi\n",
            "  Downloading PySastrawi-1.2.0-py2.py3-none-any.whl (210 kB)\n",
            "\u001b[?25l\r\u001b[K     |█▋                              | 10 kB 32.1 MB/s eta 0:00:01\r\u001b[K     |███▏                            | 20 kB 41.0 MB/s eta 0:00:01\r\u001b[K     |████▊                           | 30 kB 26.6 MB/s eta 0:00:01\r\u001b[K     |██████▎                         | 40 kB 22.8 MB/s eta 0:00:01\r\u001b[K     |███████▉                        | 51 kB 17.0 MB/s eta 0:00:01\r\u001b[K     |█████████▍                      | 61 kB 15.1 MB/s eta 0:00:01\r\u001b[K     |███████████                     | 71 kB 13.7 MB/s eta 0:00:01\r\u001b[K     |████████████▌                   | 81 kB 14.8 MB/s eta 0:00:01\r\u001b[K     |██████████████                  | 92 kB 15.6 MB/s eta 0:00:01\r\u001b[K     |███████████████▋                | 102 kB 12.9 MB/s eta 0:00:01\r\u001b[K     |█████████████████▏              | 112 kB 12.9 MB/s eta 0:00:01\r\u001b[K     |██████████████████▊             | 122 kB 12.9 MB/s eta 0:00:01\r\u001b[K     |████████████████████▎           | 133 kB 12.9 MB/s eta 0:00:01\r\u001b[K     |█████████████████████▉          | 143 kB 12.9 MB/s eta 0:00:01\r\u001b[K     |███████████████████████▍        | 153 kB 12.9 MB/s eta 0:00:01\r\u001b[K     |█████████████████████████       | 163 kB 12.9 MB/s eta 0:00:01\r\u001b[K     |██████████████████████████▌     | 174 kB 12.9 MB/s eta 0:00:01\r\u001b[K     |████████████████████████████    | 184 kB 12.9 MB/s eta 0:00:01\r\u001b[K     |█████████████████████████████▋  | 194 kB 12.9 MB/s eta 0:00:01\r\u001b[K     |███████████████████████████████▏| 204 kB 12.9 MB/s eta 0:00:01\r\u001b[K     |████████████████████████████████| 210 kB 12.9 MB/s \n",
            "\u001b[?25hInstalling collected packages: PySastrawi\n",
            "Successfully installed PySastrawi-1.2.0\n"
          ]
        }
      ]
    },
    {
      "cell_type": "code",
      "metadata": {
        "id": "AvgXetLxZ6HN"
      },
      "source": [
        "from Sastrawi.Stemmer.StemmerFactory import StemmerFactory\n",
        "from Sastrawi.StopWordRemover.StopWordRemoverFactory import StopWordRemoverFactory, StopWordRemover, ArrayDictionary"
      ],
      "execution_count": null,
      "outputs": []
    },
    {
      "cell_type": "code",
      "metadata": {
        "id": "lD9X7Fhdaq88"
      },
      "source": [
        "stemmer_factory = StemmerFactory()\n",
        "stemmer = stemmer_factory.create_stemmer()\n",
        "stop_factory = StopWordRemoverFactory().get_stop_words()"
      ],
      "execution_count": null,
      "outputs": []
    },
    {
      "cell_type": "markdown",
      "metadata": {
        "id": "51rlRO7BcJwm"
      },
      "source": [
        "# HILANGKAN STOPWORDS"
      ]
    },
    {
      "cell_type": "code",
      "metadata": {
        "id": "L0aQ3lv3ax34"
      },
      "source": [
        "  def data_cleaning(message, custom_stopword = None):\n",
        "    after_stem = stemmer.stem(message)\n",
        "    remover = StopWordRemover(ArrayDictionary(custom_stopword if custom_stopword else stop_factory))\n",
        "    after_stopword = remover.remove(after_stem)\n",
        "    return after_stopword.strip()"
      ],
      "execution_count": null,
      "outputs": []
    },
    {
      "cell_type": "code",
      "metadata": {
        "id": "eCIcgJ9ubDDn"
      },
      "source": [
        "dataset['Text'] = dataset['Text'].apply(data_cleaning)"
      ],
      "execution_count": null,
      "outputs": []
    },
    {
      "cell_type": "markdown",
      "metadata": {
        "id": "s9I_0lRbcFXl"
      },
      "source": [
        "# DATA TANPA STOPWORDS"
      ]
    },
    {
      "cell_type": "code",
      "metadata": {
        "colab": {
          "base_uri": "https://localhost:8080/",
          "height": 419
        },
        "id": "3uoPj1SMbuFQ",
        "outputId": "2a20c87b-4bc1-452e-ceed-1f810993e161"
      },
      "source": [
        "dataset"
      ],
      "execution_count": null,
      "outputs": [
        {
          "output_type": "execute_result",
          "data": {
            "text/html": [
              "<div>\n",
              "<style scoped>\n",
              "    .dataframe tbody tr th:only-of-type {\n",
              "        vertical-align: middle;\n",
              "    }\n",
              "\n",
              "    .dataframe tbody tr th {\n",
              "        vertical-align: top;\n",
              "    }\n",
              "\n",
              "    .dataframe thead th {\n",
              "        text-align: right;\n",
              "    }\n",
              "</style>\n",
              "<table border=\"1\" class=\"dataframe\">\n",
              "  <thead>\n",
              "    <tr style=\"text-align: right;\">\n",
              "      <th></th>\n",
              "      <th>Label</th>\n",
              "      <th>Text</th>\n",
              "    </tr>\n",
              "  </thead>\n",
              "  <tbody>\n",
              "    <tr>\n",
              "      <th>0</th>\n",
              "      <td>2</td>\n",
              "      <td>selamat paket combo 750mb 150 min tsel 100 sms...</td>\n",
              "    </tr>\n",
              "    <tr>\n",
              "      <th>1</th>\n",
              "      <td>2</td>\n",
              "      <td>isi saldo tcash via virtual account bca kode t...</td>\n",
              "    </tr>\n",
              "    <tr>\n",
              "      <th>2</th>\n",
              "      <td>0</td>\n",
              "      <td>paket 750mb 150 min tsel 100 sms tsel utk 7 pd...</td>\n",
              "    </tr>\n",
              "    <tr>\n",
              "      <th>3</th>\n",
              "      <td>0</td>\n",
              "      <td>paket 750mb 150 min tsel 100 sms tsel utk 7 pd...</td>\n",
              "    </tr>\n",
              "    <tr>\n",
              "      <th>4</th>\n",
              "      <td>0</td>\n",
              "      <td>paket 750mb 150 min tsel 100 sms tsel utk 7 pd...</td>\n",
              "    </tr>\n",
              "    <tr>\n",
              "      <th>...</th>\n",
              "      <td>...</td>\n",
              "      <td>...</td>\n",
              "    </tr>\n",
              "    <tr>\n",
              "      <th>5751</th>\n",
              "      <td>1</td>\n",
              "      <td>selamat dana bantu 25 jt dr yusup kalla klu te...</td>\n",
              "    </tr>\n",
              "    <tr>\n",
              "      <th>5752</th>\n",
              "      <td>1</td>\n",
              "      <td>kirim rek aja bri syamsudin nmor rek 1835-0100...</td>\n",
              "    </tr>\n",
              "    <tr>\n",
              "      <th>5753</th>\n",
              "      <td>1</td>\n",
              "      <td>tawar konsultasi medis gratis salah dr highest</td>\n",
              "    </tr>\n",
              "    <tr>\n",
              "      <th>5754</th>\n",
              "      <td>1</td>\n",
              "      <td>selamat bpk dgn nomor tel 0858812763 sil tukar...</td>\n",
              "    </tr>\n",
              "    <tr>\n",
              "      <th>5755</th>\n",
              "      <td>1</td>\n",
              "      <td>follower facebook klik www klikaja com gratis ...</td>\n",
              "    </tr>\n",
              "  </tbody>\n",
              "</table>\n",
              "<p>5756 rows × 2 columns</p>\n",
              "</div>"
            ],
            "text/plain": [
              "      Label                                               Text\n",
              "0         2  selamat paket combo 750mb 150 min tsel 100 sms...\n",
              "1         2  isi saldo tcash via virtual account bca kode t...\n",
              "2         0  paket 750mb 150 min tsel 100 sms tsel utk 7 pd...\n",
              "3         0  paket 750mb 150 min tsel 100 sms tsel utk 7 pd...\n",
              "4         0  paket 750mb 150 min tsel 100 sms tsel utk 7 pd...\n",
              "...     ...                                                ...\n",
              "5751      1  selamat dana bantu 25 jt dr yusup kalla klu te...\n",
              "5752      1  kirim rek aja bri syamsudin nmor rek 1835-0100...\n",
              "5753      1     tawar konsultasi medis gratis salah dr highest\n",
              "5754      1  selamat bpk dgn nomor tel 0858812763 sil tukar...\n",
              "5755      1  follower facebook klik www klikaja com gratis ...\n",
              "\n",
              "[5756 rows x 2 columns]"
            ]
          },
          "metadata": {},
          "execution_count": 12
        }
      ]
    },
    {
      "cell_type": "markdown",
      "metadata": {
        "id": "h9Mh2f2ggZnL"
      },
      "source": [
        "# VISUALIZATION"
      ]
    },
    {
      "cell_type": "code",
      "metadata": {
        "colab": {
          "base_uri": "https://localhost:8080/",
          "height": 279
        },
        "id": "M8Prk5P8gY_f",
        "outputId": "e267da9d-8c2b-45ad-bb2a-d649774cbac2"
      },
      "source": [
        "dataset['Label'].value_counts().plot(kind='bar')"
      ],
      "execution_count": null,
      "outputs": [
        {
          "output_type": "execute_result",
          "data": {
            "text/plain": [
              "<matplotlib.axes._subplots.AxesSubplot at 0x7f1aad011d10>"
            ]
          },
          "metadata": {},
          "execution_count": 13
        },
        {
          "output_type": "display_data",
          "data": {
            "image/png": "[encoded data removed]",
            "text/plain": [
              "<Figure size 432x288 with 1 Axes>"
            ]
          },
          "metadata": {
            "needs_background": "light"
          }
        }
      ]
    },
    {
      "cell_type": "markdown",
      "metadata": {
        "id": "3pIX1qpBcMTQ"
      },
      "source": [
        "# SPLIT DATA"
      ]
    },
    {
      "cell_type": "code",
      "metadata": {
        "id": "7D5-APXEcQPG"
      },
      "source": [
        "data_train, data_test, label_train, label_test = train_test_split(\n",
        "        dataset['Text'],\n",
        "        dataset['Label'],\n",
        "        test_size=0.2,\n",
        "        random_state=40\n",
        ")"
      ],
      "execution_count": null,
      "outputs": []
    },
    {
      "cell_type": "markdown",
      "metadata": {
        "id": "5KpxMPRAczKK"
      },
      "source": [
        "# PIPELINE SVC"
      ]
    },
    {
      "cell_type": "code",
      "metadata": {
        "id": "MqNfJhOoa8QG"
      },
      "source": [
        "from sklearn.svm import LinearSVC"
      ],
      "execution_count": null,
      "outputs": []
    },
    {
      "cell_type": "code",
      "metadata": {
        "id": "yPM-RlzAcxf3"
      },
      "source": [
        "pipe = Pipeline([\n",
        "  ('vect', CountVectorizer()),\n",
        "  ('tfidf', TfidfTransformer()),\n",
        "  ('clf', LinearSVC())\n",
        "])\n"
      ],
      "execution_count": null,
      "outputs": []
    },
    {
      "cell_type": "code",
      "metadata": {
        "colab": {
          "base_uri": "https://localhost:8080/"
        },
        "id": "tqrbELSnc7Vr",
        "outputId": "29556c61-f01a-45c3-fa9c-c35746376762"
      },
      "source": [
        "pipe.fit(data_train, label_train)\n",
        "print('Training set score: ' + str(pipe.score(data_train,label_train)))\n",
        "print('Test set score: ' + str(pipe.score(data_train,label_train)))"
      ],
      "execution_count": null,
      "outputs": [
        {
          "output_type": "stream",
          "name": "stdout",
          "text": [
            "Training set score: 0.9750217202432667\n",
            "Test set score: 0.9750217202432667\n"
          ]
        }
      ]
    },
    {
      "cell_type": "code",
      "metadata": {
        "id": "YWgwb2gLdydi"
      },
      "source": [
        "result = pipe.predict(['dapatkan diskon kfc'])"
      ],
      "execution_count": null,
      "outputs": []
    },
    {
      "cell_type": "code",
      "metadata": {
        "colab": {
          "base_uri": "https://localhost:8080/",
          "height": 35
        },
        "id": "xzLuTSFxdJif",
        "outputId": "12d15609-448c-4459-b39b-20282a171191"
      },
      "source": [
        "label[int(result[0])]"
      ],
      "execution_count": null,
      "outputs": [
        {
          "output_type": "execute_result",
          "data": {
            "application/vnd.google.colaboratory.intrinsic+json": {
              "type": "string"
            },
            "text/plain": [
              "'Promo'"
            ]
          },
          "metadata": {},
          "execution_count": 19
        }
      ]
    },
    {
      "cell_type": "markdown",
      "metadata": {
        "id": "AWHBnxCH2rvp"
      },
      "source": [
        "# PIPELINE XGBOOST"
      ]
    },
    {
      "cell_type": "code",
      "metadata": {
        "id": "IF3dFrQU2wFG"
      },
      "source": [
        "from xgboost import XGBClassifier\n"
      ],
      "execution_count": null,
      "outputs": []
    },
    {
      "cell_type": "code",
      "metadata": {
        "id": "3VwFsjSJ3d7X"
      },
      "source": [
        "pipe = Pipeline([\n",
        "  ('vect', CountVectorizer()),\n",
        "  ('tfidf', TfidfTransformer()),\n",
        "  ('clf', XGBClassifier())\n",
        "])"
      ],
      "execution_count": null,
      "outputs": []
    },
    {
      "cell_type": "code",
      "metadata": {
        "colab": {
          "base_uri": "https://localhost:8080/"
        },
        "id": "sPB0OvtX3mCX",
        "outputId": "2ac1a729-9703-49e8-f0cd-4972b5896c0c"
      },
      "source": [
        "pipe.fit(data_train, label_train)\n",
        "print('Training set score: ' + str(pipe.score(data_train,label_train)))\n",
        "print('Test set score: ' + str(pipe.score(data_train,label_train)))"
      ],
      "execution_count": null,
      "outputs": [
        {
          "output_type": "stream",
          "name": "stdout",
          "text": [
            "Training set score: 0.9039965247610773\n",
            "Test set score: 0.9039965247610773\n"
          ]
        }
      ]
    },
    {
      "cell_type": "markdown",
      "metadata": {
        "id": "oVhTmTEfjnj7"
      },
      "source": [
        "# SAVING MODEL"
      ]
    },
    {
      "cell_type": "code",
      "metadata": {
        "id": "Ycmung2Ejp3f"
      },
      "source": [
        "import pickle"
      ],
      "execution_count": null,
      "outputs": []
    },
    {
      "cell_type": "code",
      "metadata": {
        "id": "ggF8h8BgjrSh"
      },
      "source": [
        "filename = 'anoabot_model_v1.pkl'\n",
        "pickle.dump(pipe, open(filename, 'wb'))"
      ],
      "execution_count": null,
      "outputs": []
    },
    {
      "cell_type": "markdown",
      "metadata": {
        "id": "OySCFQK6kDwU"
      },
      "source": [
        "# MENCOBA PREDIKSI DENGAN SAVED MODEL"
      ]
    },
    {
      "cell_type": "code",
      "metadata": {
        "colab": {
          "base_uri": "https://localhost:8080/"
        },
        "id": "vScj7nRlkJDf",
        "outputId": "fccf136f-97cf-41dd-c64c-0e73a2b11cea"
      },
      "source": [
        "loaded_model = pickle.load(open('anoabot_model_v1.pkl', 'rb'))\n",
        "result = loaded_model.score(data_test, label_test)\n",
        "print(result)"
      ],
      "execution_count": null,
      "outputs": [
        {
          "output_type": "stream",
          "name": "stdout",
          "text": [
            "0.9296875\n"
          ]
        }
      ]
    },
    {
      "cell_type": "code",
      "metadata": {
        "colab": {
          "base_uri": "https://localhost:8080/",
          "height": 52
        },
        "id": "H6ubTM5BkXLO",
        "outputId": "83cc6336-1e37-46f4-ab45-94707802dfb0"
      },
      "source": [
        "result = loaded_model.predict(['Kirimkan uang sebesar 2 ke nomor 03874242'])\n",
        "print(result)\n",
        "label[int(result[0])]\n"
      ],
      "execution_count": null,
      "outputs": [
        {
          "output_type": "stream",
          "name": "stdout",
          "text": [
            "[1]\n"
          ]
        },
        {
          "output_type": "execute_result",
          "data": {
            "application/vnd.google.colaboratory.intrinsic+json": {
              "type": "string"
            },
            "text/plain": [
              "'Penipuan'"
            ]
          },
          "metadata": {},
          "execution_count": 23
        }
      ]
    }
  ]
}